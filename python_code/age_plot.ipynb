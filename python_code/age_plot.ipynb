{
  "nbformat": 4,
  "nbformat_minor": 0,
  "metadata": {
    "colab": {
      "name": "age_plot.ipynb",
      "provenance": []
    },
    "kernelspec": {
      "name": "python3",
      "display_name": "Python 3"
    }
  },
  "cells": [
    {
      "cell_type": "code",
      "metadata": {
        "id": "7i9bLz2M9s-h",
        "colab_type": "code",
        "colab": {}
      },
      "source": [
        "import pandas as pd\n",
        "import numpy as np\n",
        "import pyecharts"
      ],
      "execution_count": 0,
      "outputs": []
    },
    {
      "cell_type": "code",
      "metadata": {
        "id": "NfKinNF7_jFX",
        "colab_type": "code",
        "colab": {
          "base_uri": "https://localhost:8080/",
          "height": 289
        },
        "outputId": "d7fcf0fa-4f57-4c5e-c0c2-06c7264c061a"
      },
      "source": [
        "pip install pyecharts"
      ],
      "execution_count": 10,
      "outputs": [
        {
          "output_type": "stream",
          "text": [
            "Collecting pyecharts\n",
            "\u001b[?25l  Downloading https://files.pythonhosted.org/packages/fc/15/c30e542fcf1245eaa0198327879e7869c2c49c600611b2b2d70fbbbcd252/pyecharts-1.6.2-py3-none-any.whl (168kB)\n",
            "\r\u001b[K     |██                              | 10kB 18.3MB/s eta 0:00:01\r\u001b[K     |████                            | 20kB 1.8MB/s eta 0:00:01\r\u001b[K     |█████▉                          | 30kB 2.6MB/s eta 0:00:01\r\u001b[K     |███████▉                        | 40kB 1.7MB/s eta 0:00:01\r\u001b[K     |█████████▊                      | 51kB 2.1MB/s eta 0:00:01\r\u001b[K     |███████████▊                    | 61kB 2.5MB/s eta 0:00:01\r\u001b[K     |█████████████▋                  | 71kB 2.9MB/s eta 0:00:01\r\u001b[K     |███████████████▋                | 81kB 3.3MB/s eta 0:00:01\r\u001b[K     |█████████████████▌              | 92kB 3.7MB/s eta 0:00:01\r\u001b[K     |███████████████████▌            | 102kB 2.8MB/s eta 0:00:01\r\u001b[K     |█████████████████████▌          | 112kB 2.8MB/s eta 0:00:01\r\u001b[K     |███████████████████████▍        | 122kB 2.8MB/s eta 0:00:01\r\u001b[K     |█████████████████████████▍      | 133kB 2.8MB/s eta 0:00:01\r\u001b[K     |███████████████████████████▎    | 143kB 2.8MB/s eta 0:00:01\r\u001b[K     |█████████████████████████████▎  | 153kB 2.8MB/s eta 0:00:01\r\u001b[K     |███████████████████████████████▏| 163kB 2.8MB/s eta 0:00:01\r\u001b[K     |████████████████████████████████| 174kB 2.8MB/s \n",
            "\u001b[?25hRequirement already satisfied: jinja2 in /usr/local/lib/python3.6/dist-packages (from pyecharts) (2.11.1)\n",
            "Collecting simplejson\n",
            "\u001b[?25l  Downloading https://files.pythonhosted.org/packages/98/87/a7b98aa9256c8843f92878966dc3d8d914c14aad97e2c5ce4798d5743e07/simplejson-3.17.0.tar.gz (83kB)\n",
            "\u001b[K     |████████████████████████████████| 92kB 9.9MB/s \n",
            "\u001b[?25hRequirement already satisfied: prettytable in /usr/local/lib/python3.6/dist-packages (from pyecharts) (0.7.2)\n",
            "Requirement already satisfied: MarkupSafe>=0.23 in /usr/local/lib/python3.6/dist-packages (from jinja2->pyecharts) (1.1.1)\n",
            "Building wheels for collected packages: simplejson\n",
            "  Building wheel for simplejson (setup.py) ... \u001b[?25l\u001b[?25hdone\n",
            "  Created wheel for simplejson: filename=simplejson-3.17.0-cp36-cp36m-linux_x86_64.whl size=114216 sha256=5585d7a25aa740d1a78a5a1d649b235a477f4bbce4d79509be4f382f10433ae9\n",
            "  Stored in directory: /root/.cache/pip/wheels/86/c0/83/dcd0339abb2640544bb8e0938aab2d069cef55e5647ce6e097\n",
            "Successfully built simplejson\n",
            "Installing collected packages: simplejson, pyecharts\n",
            "Successfully installed pyecharts-1.6.2 simplejson-3.17.0\n"
          ],
          "name": "stdout"
        }
      ]
    },
    {
      "cell_type": "code",
      "metadata": {
        "id": "UZI_XH8W-W8Y",
        "colab_type": "code",
        "colab": {
          "base_uri": "https://localhost:8080/",
          "height": 122
        },
        "outputId": "28eae955-61d4-46ba-8d7f-59077b07285d"
      },
      "source": [
        "from google.colab import drive\n",
        "drive.mount('/content/drive')"
      ],
      "execution_count": 2,
      "outputs": [
        {
          "output_type": "stream",
          "text": [
            "Go to this URL in a browser: https://accounts.google.com/o/oauth2/auth?client_id=947318989803-6bn6qk8qdgf4n4g3pfee6491hc0brc4i.apps.googleusercontent.com&redirect_uri=urn%3aietf%3awg%3aoauth%3a2.0%3aoob&response_type=code&scope=email%20https%3a%2f%2fwww.googleapis.com%2fauth%2fdocs.test%20https%3a%2f%2fwww.googleapis.com%2fauth%2fdrive%20https%3a%2f%2fwww.googleapis.com%2fauth%2fdrive.photos.readonly%20https%3a%2f%2fwww.googleapis.com%2fauth%2fpeopleapi.readonly\n",
            "\n",
            "Enter your authorization code:\n",
            "··········\n",
            "Mounted at /content/drive\n"
          ],
          "name": "stdout"
        }
      ]
    },
    {
      "cell_type": "code",
      "metadata": {
        "id": "H3kWDt3i-kFT",
        "colab_type": "code",
        "colab": {}
      },
      "source": [
        "data_path = 'patient_data.csv'\n",
        "data = pd.read_csv(data_path,  encoding = 'euc-kr')"
      ],
      "execution_count": 0,
      "outputs": []
    },
    {
      "cell_type": "code",
      "metadata": {
        "id": "BAQ11o41ArXa",
        "colab_type": "code",
        "colab": {
          "base_uri": "https://localhost:8080/",
          "height": 204
        },
        "outputId": "e1d00729-e69c-498f-b82c-7309e6e6392c"
      },
      "source": [
        "data.head()"
      ],
      "execution_count": 34,
      "outputs": [
        {
          "output_type": "execute_result",
          "data": {
            "text/html": [
              "<div>\n",
              "<style scoped>\n",
              "    .dataframe tbody tr th:only-of-type {\n",
              "        vertical-align: middle;\n",
              "    }\n",
              "\n",
              "    .dataframe tbody tr th {\n",
              "        vertical-align: top;\n",
              "    }\n",
              "\n",
              "    .dataframe thead th {\n",
              "        text-align: right;\n",
              "    }\n",
              "</style>\n",
              "<table border=\"1\" class=\"dataframe\">\n",
              "  <thead>\n",
              "    <tr style=\"text-align: right;\">\n",
              "      <th></th>\n",
              "      <th>date</th>\n",
              "      <th>ID</th>\n",
              "      <th>degree</th>\n",
              "      <th>hospital</th>\n",
              "      <th>condition</th>\n",
              "      <th>sex</th>\n",
              "      <th>type</th>\n",
              "      <th>age</th>\n",
              "      <th>country</th>\n",
              "      <th>note</th>\n",
              "    </tr>\n",
              "  </thead>\n",
              "  <tbody>\n",
              "    <tr>\n",
              "      <th>0</th>\n",
              "      <td>2020-01-19</td>\n",
              "      <td>1</td>\n",
              "      <td>1차</td>\n",
              "      <td>인천의료원</td>\n",
              "      <td>퇴원</td>\n",
              "      <td>여</td>\n",
              "      <td>중국인 관광객</td>\n",
              "      <td>30대</td>\n",
              "      <td>중국</td>\n",
              "      <td>NaN</td>\n",
              "    </tr>\n",
              "    <tr>\n",
              "      <th>1</th>\n",
              "      <td>2020-01-22</td>\n",
              "      <td>2</td>\n",
              "      <td>1차</td>\n",
              "      <td>국립중앙의료원</td>\n",
              "      <td>퇴원</td>\n",
              "      <td>남</td>\n",
              "      <td>우한 교민</td>\n",
              "      <td>50대</td>\n",
              "      <td>한국</td>\n",
              "      <td>NaN</td>\n",
              "    </tr>\n",
              "    <tr>\n",
              "      <th>2</th>\n",
              "      <td>2020-01-25</td>\n",
              "      <td>3</td>\n",
              "      <td>1차</td>\n",
              "      <td>일산명지병원</td>\n",
              "      <td>입원</td>\n",
              "      <td>남</td>\n",
              "      <td>우한 교민</td>\n",
              "      <td>50대</td>\n",
              "      <td>한국</td>\n",
              "      <td>NaN</td>\n",
              "    </tr>\n",
              "    <tr>\n",
              "      <th>3</th>\n",
              "      <td>2020-01-26</td>\n",
              "      <td>4</td>\n",
              "      <td>1차</td>\n",
              "      <td>분당서울대병원</td>\n",
              "      <td>퇴원</td>\n",
              "      <td>남</td>\n",
              "      <td>우한 방문자</td>\n",
              "      <td>50대</td>\n",
              "      <td>한국</td>\n",
              "      <td>NaN</td>\n",
              "    </tr>\n",
              "    <tr>\n",
              "      <th>4</th>\n",
              "      <td>2020-01-30</td>\n",
              "      <td>5</td>\n",
              "      <td>1차</td>\n",
              "      <td>서울의료원</td>\n",
              "      <td>입원</td>\n",
              "      <td>남</td>\n",
              "      <td>우한 방문자</td>\n",
              "      <td>30대</td>\n",
              "      <td>한국</td>\n",
              "      <td>NaN</td>\n",
              "    </tr>\n",
              "  </tbody>\n",
              "</table>\n",
              "</div>"
            ],
            "text/plain": [
              "         date  ID degree hospital condition sex     type  age country note\n",
              "0  2020-01-19   1     1차    인천의료원        퇴원   여  중국인 관광객  30대      중국  NaN\n",
              "1  2020-01-22   2     1차  국립중앙의료원        퇴원   남    우한 교민  50대      한국  NaN\n",
              "2  2020-01-25   3     1차   일산명지병원        입원   남    우한 교민  50대      한국  NaN\n",
              "3  2020-01-26   4     1차  분당서울대병원        퇴원   남   우한 방문자  50대      한국  NaN\n",
              "4  2020-01-30   5     1차    서울의료원        입원   남   우한 방문자  30대      한국  NaN"
            ]
          },
          "metadata": {
            "tags": []
          },
          "execution_count": 34
        }
      ]
    },
    {
      "cell_type": "code",
      "metadata": {
        "id": "FR7W4VFIDWZI",
        "colab_type": "code",
        "colab": {
          "base_uri": "https://localhost:8080/",
          "height": 204
        },
        "outputId": "90bd2077-e92b-4260-a8b1-01dce79ffed5"
      },
      "source": [
        "data = data.fillna(\"\")\n",
        "data.head()"
      ],
      "execution_count": 35,
      "outputs": [
        {
          "output_type": "execute_result",
          "data": {
            "text/html": [
              "<div>\n",
              "<style scoped>\n",
              "    .dataframe tbody tr th:only-of-type {\n",
              "        vertical-align: middle;\n",
              "    }\n",
              "\n",
              "    .dataframe tbody tr th {\n",
              "        vertical-align: top;\n",
              "    }\n",
              "\n",
              "    .dataframe thead th {\n",
              "        text-align: right;\n",
              "    }\n",
              "</style>\n",
              "<table border=\"1\" class=\"dataframe\">\n",
              "  <thead>\n",
              "    <tr style=\"text-align: right;\">\n",
              "      <th></th>\n",
              "      <th>date</th>\n",
              "      <th>ID</th>\n",
              "      <th>degree</th>\n",
              "      <th>hospital</th>\n",
              "      <th>condition</th>\n",
              "      <th>sex</th>\n",
              "      <th>type</th>\n",
              "      <th>age</th>\n",
              "      <th>country</th>\n",
              "      <th>note</th>\n",
              "    </tr>\n",
              "  </thead>\n",
              "  <tbody>\n",
              "    <tr>\n",
              "      <th>0</th>\n",
              "      <td>2020-01-19</td>\n",
              "      <td>1</td>\n",
              "      <td>1차</td>\n",
              "      <td>인천의료원</td>\n",
              "      <td>퇴원</td>\n",
              "      <td>여</td>\n",
              "      <td>중국인 관광객</td>\n",
              "      <td>30대</td>\n",
              "      <td>중국</td>\n",
              "      <td></td>\n",
              "    </tr>\n",
              "    <tr>\n",
              "      <th>1</th>\n",
              "      <td>2020-01-22</td>\n",
              "      <td>2</td>\n",
              "      <td>1차</td>\n",
              "      <td>국립중앙의료원</td>\n",
              "      <td>퇴원</td>\n",
              "      <td>남</td>\n",
              "      <td>우한 교민</td>\n",
              "      <td>50대</td>\n",
              "      <td>한국</td>\n",
              "      <td></td>\n",
              "    </tr>\n",
              "    <tr>\n",
              "      <th>2</th>\n",
              "      <td>2020-01-25</td>\n",
              "      <td>3</td>\n",
              "      <td>1차</td>\n",
              "      <td>일산명지병원</td>\n",
              "      <td>입원</td>\n",
              "      <td>남</td>\n",
              "      <td>우한 교민</td>\n",
              "      <td>50대</td>\n",
              "      <td>한국</td>\n",
              "      <td></td>\n",
              "    </tr>\n",
              "    <tr>\n",
              "      <th>3</th>\n",
              "      <td>2020-01-26</td>\n",
              "      <td>4</td>\n",
              "      <td>1차</td>\n",
              "      <td>분당서울대병원</td>\n",
              "      <td>퇴원</td>\n",
              "      <td>남</td>\n",
              "      <td>우한 방문자</td>\n",
              "      <td>50대</td>\n",
              "      <td>한국</td>\n",
              "      <td></td>\n",
              "    </tr>\n",
              "    <tr>\n",
              "      <th>4</th>\n",
              "      <td>2020-01-30</td>\n",
              "      <td>5</td>\n",
              "      <td>1차</td>\n",
              "      <td>서울의료원</td>\n",
              "      <td>입원</td>\n",
              "      <td>남</td>\n",
              "      <td>우한 방문자</td>\n",
              "      <td>30대</td>\n",
              "      <td>한국</td>\n",
              "      <td></td>\n",
              "    </tr>\n",
              "  </tbody>\n",
              "</table>\n",
              "</div>"
            ],
            "text/plain": [
              "         date  ID degree hospital condition sex     type  age country note\n",
              "0  2020-01-19   1     1차    인천의료원        퇴원   여  중국인 관광객  30대      중국     \n",
              "1  2020-01-22   2     1차  국립중앙의료원        퇴원   남    우한 교민  50대      한국     \n",
              "2  2020-01-25   3     1차   일산명지병원        입원   남    우한 교민  50대      한국     \n",
              "3  2020-01-26   4     1차  분당서울대병원        퇴원   남   우한 방문자  50대      한국     \n",
              "4  2020-01-30   5     1차    서울의료원        입원   남   우한 방문자  30대      한국     "
            ]
          },
          "metadata": {
            "tags": []
          },
          "execution_count": 35
        }
      ]
    },
    {
      "cell_type": "code",
      "metadata": {
        "id": "cULQZHH9DYX1",
        "colab_type": "code",
        "colab": {}
      },
      "source": [
        "age = list(np.sort(data.age.unique()))\n",
        "age_value = list(data.age.value_counts().sort_index())\n",
        "\n"
      ],
      "execution_count": 0,
      "outputs": []
    },
    {
      "cell_type": "code",
      "metadata": {
        "id": "71tV8jXxMyVe",
        "colab_type": "code",
        "colab": {}
      },
      "source": [
        "age_bar = (\n",
        "        Bar()\n",
        "        .add_xaxis(age)\n",
        "        .add_yaxis(\"확진자 수(명)\", age_value, color=\"#BDBDBD\")\n",
        "        .set_global_opts(title_opts=opts.TitleOpts(title=\"격리병원\"))\n",
        "        .set_series_opts(label_opts=opts.LabelOpts(position=\"right\", color=[\"black\"]))\n",
        "        .reversal_axis()\n",
        ")\n"
      ],
      "execution_count": 0,
      "outputs": []
    },
    {
      "cell_type": "code",
      "metadata": {
        "id": "GF2jFex7V1Uq",
        "colab_type": "code",
        "colab": {
          "base_uri": "https://localhost:8080/",
          "height": 34
        },
        "outputId": "1653bfdb-81f5-42cc-ffd8-bece9204b51b"
      },
      "source": [
        "age_bar.render()"
      ],
      "execution_count": 50,
      "outputs": [
        {
          "output_type": "execute_result",
          "data": {
            "text/plain": [
              "'/content/drive/My Drive/render.html'"
            ]
          },
          "metadata": {
            "tags": []
          },
          "execution_count": 50
        }
      ]
    },
    {
      "cell_type": "code",
      "metadata": {
        "id": "0XfyM1iSWqlO",
        "colab_type": "code",
        "colab": {}
      },
      "source": [
        "\n",
        "age_bar.render_notebook()"
      ],
      "execution_count": 0,
      "outputs": []
    }
  ]
}